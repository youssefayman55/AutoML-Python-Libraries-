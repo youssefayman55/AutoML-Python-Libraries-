{
 "cells": [
  {
   "cell_type": "markdown",
   "id": "cd669049",
   "metadata": {
    "papermill": {
     "duration": 0.005859,
     "end_time": "2024-10-16T00:59:41.357318",
     "exception": false,
     "start_time": "2024-10-16T00:59:41.351459",
     "status": "completed"
    },
    "tags": []
   },
   "source": [
    "### Automated machine learning, also referred to as automated ML or AutoML, is the process of automating the time-consuming, iterative tasks of machine learning model development. It allows data scientists, analysts, and developers to build ML models with high scale, efficiency, and productivity all while sustaining model quality."
   ]
  },
  {
   "cell_type": "markdown",
   "id": "dee15641",
   "metadata": {
    "papermill": {
     "duration": 0.004908,
     "end_time": "2024-10-16T00:59:41.367468",
     "exception": false,
     "start_time": "2024-10-16T00:59:41.362560",
     "status": "completed"
    },
    "tags": []
   },
   "source": [
    "### Traditional machine learning model development is resource-intensive and requires a significant time commitment to produce and compare dozens of models. With automated machine learning, you can accelerate the time it takes to get production-ready ML models with great ease and efficiency."
   ]
  },
  {
   "cell_type": "markdown",
   "id": "fec4ca04",
   "metadata": {
    "papermill": {
     "duration": 0.004776,
     "end_time": "2024-10-16T00:59:41.377301",
     "exception": false,
     "start_time": "2024-10-16T00:59:41.372525",
     "status": "completed"
    },
    "tags": []
   },
   "source": [
    "### Python has a growing ecosystem of open-source AutoML libraries. like : **PyCaret library**"
   ]
  },
  {
   "cell_type": "markdown",
   "id": "eb2da6f8",
   "metadata": {
    "papermill": {
     "duration": 0.004823,
     "end_time": "2024-10-16T00:59:41.387448",
     "exception": false,
     "start_time": "2024-10-16T00:59:41.382625",
     "status": "completed"
    },
    "tags": []
   },
   "source": [
    "# **PyCaret**\n",
    "\n",
    "### **PyCaret :** is a low-code machine learning library in Python that simplifies the process of building and deploying machine learning models. It automates many tasks such as preprocessing, model training, and hyperparameter tuning, making it user-friendly for beginners and experienced data scientists alike.."
   ]
  },
  {
   "cell_type": "markdown",
   "id": "1bcb6919",
   "metadata": {
    "papermill": {
     "duration": 0.004867,
     "end_time": "2024-10-16T00:59:41.397403",
     "exception": false,
     "start_time": "2024-10-16T00:59:41.392536",
     "status": "completed"
    },
    "tags": []
   },
   "source": [
    "# Steps for using PyCaret:\n",
    "#### 1- Install PyCaret: You need to install the PyCaret library if you haven't already:"
   ]
  },
  {
   "cell_type": "code",
   "execution_count": 1,
   "id": "3d85e4dc",
   "metadata": {
    "execution": {
     "iopub.execute_input": "2024-10-16T00:59:41.409185Z",
     "iopub.status.busy": "2024-10-16T00:59:41.408742Z",
     "iopub.status.idle": "2024-10-16T00:59:41.414402Z",
     "shell.execute_reply": "2024-10-16T00:59:41.413197Z"
    },
    "papermill": {
     "duration": 0.014386,
     "end_time": "2024-10-16T00:59:41.416796",
     "exception": false,
     "start_time": "2024-10-16T00:59:41.402410",
     "status": "completed"
    },
    "tags": []
   },
   "outputs": [],
   "source": [
    "# pip install pycaret "
   ]
  },
  {
   "cell_type": "markdown",
   "id": "626754f9",
   "metadata": {
    "papermill": {
     "duration": 0.004803,
     "end_time": "2024-10-16T00:59:41.427885",
     "exception": false,
     "start_time": "2024-10-16T00:59:41.423082",
     "status": "completed"
    },
    "tags": []
   },
   "source": [
    "#### 2- Import the required modules:"
   ]
  },
  {
   "cell_type": "code",
   "execution_count": 2,
   "id": "a30b8b45",
   "metadata": {
    "execution": {
     "iopub.execute_input": "2024-10-16T00:59:41.440161Z",
     "iopub.status.busy": "2024-10-16T00:59:41.439724Z",
     "iopub.status.idle": "2024-10-16T00:59:41.444625Z",
     "shell.execute_reply": "2024-10-16T00:59:41.443608Z"
    },
    "papermill": {
     "duration": 0.013772,
     "end_time": "2024-10-16T00:59:41.446855",
     "exception": false,
     "start_time": "2024-10-16T00:59:41.433083",
     "status": "completed"
    },
    "tags": []
   },
   "outputs": [],
   "source": [
    "# For classification problems \n",
    "# from pycaret.classification import *\n",
    "\n",
    "# For regression problems \n",
    "# from pycaret.regression import *"
   ]
  },
  {
   "cell_type": "markdown",
   "id": "15e0af0e",
   "metadata": {
    "papermill": {
     "duration": 0.004859,
     "end_time": "2024-10-16T00:59:41.456987",
     "exception": false,
     "start_time": "2024-10-16T00:59:41.452128",
     "status": "completed"
    },
    "tags": []
   },
   "source": [
    "#### 3- Load a dataset: Let's use the PyCaret dataset, but you can also load your own data (e.g., using Pandas):"
   ]
  },
  {
   "cell_type": "code",
   "execution_count": 3,
   "id": "362fb864",
   "metadata": {
    "execution": {
     "iopub.execute_input": "2024-10-16T00:59:41.470227Z",
     "iopub.status.busy": "2024-10-16T00:59:41.469813Z",
     "iopub.status.idle": "2024-10-16T00:59:41.474904Z",
     "shell.execute_reply": "2024-10-16T00:59:41.473669Z"
    },
    "papermill": {
     "duration": 0.015057,
     "end_time": "2024-10-16T00:59:41.477212",
     "exception": false,
     "start_time": "2024-10-16T00:59:41.462155",
     "status": "completed"
    },
    "tags": []
   },
   "outputs": [],
   "source": [
    "# from pycaret.datasets import get_data\n",
    "# data = get_data('iris')"
   ]
  },
  {
   "cell_type": "markdown",
   "id": "195225b6",
   "metadata": {
    "papermill": {
     "duration": 0.005188,
     "end_time": "2024-10-16T00:59:41.487679",
     "exception": false,
     "start_time": "2024-10-16T00:59:41.482491",
     "status": "completed"
    },
    "tags": []
   },
   "source": [
    "#### 4- Set up your environment: The setup() function in PyCaret initializes the environment and preprocesses the data (e.g., handling missing values, scaling, encoding categorical features, etc.)."
   ]
  },
  {
   "cell_type": "code",
   "execution_count": 4,
   "id": "bc16a4e5",
   "metadata": {
    "execution": {
     "iopub.execute_input": "2024-10-16T00:59:41.499713Z",
     "iopub.status.busy": "2024-10-16T00:59:41.499305Z",
     "iopub.status.idle": "2024-10-16T00:59:41.504370Z",
     "shell.execute_reply": "2024-10-16T00:59:41.503115Z"
    },
    "papermill": {
     "duration": 0.014163,
     "end_time": "2024-10-16T00:59:41.506998",
     "exception": false,
     "start_time": "2024-10-16T00:59:41.492835",
     "status": "completed"
    },
    "tags": []
   },
   "outputs": [],
   "source": [
    "# cls = setup(data , target = 'species')"
   ]
  },
  {
   "cell_type": "markdown",
   "id": "8ab30559",
   "metadata": {
    "papermill": {
     "duration": 0.004861,
     "end_time": "2024-10-16T00:59:41.518080",
     "exception": false,
     "start_time": "2024-10-16T00:59:41.513219",
     "status": "completed"
    },
    "tags": []
   },
   "source": [
    "#### 5- Compare different models: PyCaret can automatically train and evaluate different models and display a leaderboard:"
   ]
  },
  {
   "cell_type": "code",
   "execution_count": 5,
   "id": "a3d781bc",
   "metadata": {
    "execution": {
     "iopub.execute_input": "2024-10-16T00:59:41.531141Z",
     "iopub.status.busy": "2024-10-16T00:59:41.530289Z",
     "iopub.status.idle": "2024-10-16T00:59:41.535118Z",
     "shell.execute_reply": "2024-10-16T00:59:41.534012Z"
    },
    "papermill": {
     "duration": 0.013752,
     "end_time": "2024-10-16T00:59:41.537447",
     "exception": false,
     "start_time": "2024-10-16T00:59:41.523695",
     "status": "completed"
    },
    "tags": []
   },
   "outputs": [],
   "source": [
    "# best_model = compare_models()"
   ]
  },
  {
   "cell_type": "markdown",
   "id": "8281126e",
   "metadata": {
    "papermill": {
     "duration": 0.005259,
     "end_time": "2024-10-16T00:59:41.547914",
     "exception": false,
     "start_time": "2024-10-16T00:59:41.542655",
     "status": "completed"
    },
    "tags": []
   },
   "source": [
    "#### 6- Train the best model: You can further fine-tune the best-performing model:"
   ]
  },
  {
   "cell_type": "code",
   "execution_count": 6,
   "id": "1f731234",
   "metadata": {
    "execution": {
     "iopub.execute_input": "2024-10-16T00:59:41.559932Z",
     "iopub.status.busy": "2024-10-16T00:59:41.559509Z",
     "iopub.status.idle": "2024-10-16T00:59:41.564219Z",
     "shell.execute_reply": "2024-10-16T00:59:41.563180Z"
    },
    "papermill": {
     "duration": 0.013506,
     "end_time": "2024-10-16T00:59:41.566580",
     "exception": false,
     "start_time": "2024-10-16T00:59:41.553074",
     "status": "completed"
    },
    "tags": []
   },
   "outputs": [],
   "source": [
    "# tuned_model = tune_model(best_model)"
   ]
  },
  {
   "cell_type": "markdown",
   "id": "8728b089",
   "metadata": {
    "papermill": {
     "duration": 0.004834,
     "end_time": "2024-10-16T00:59:41.576676",
     "exception": false,
     "start_time": "2024-10-16T00:59:41.571842",
     "status": "completed"
    },
    "tags": []
   },
   "source": [
    "#### 7- Make predictions: Once your model is trained, you can make predictions:"
   ]
  },
  {
   "cell_type": "code",
   "execution_count": 7,
   "id": "faa1a4d5",
   "metadata": {
    "execution": {
     "iopub.execute_input": "2024-10-16T00:59:41.588565Z",
     "iopub.status.busy": "2024-10-16T00:59:41.588145Z",
     "iopub.status.idle": "2024-10-16T00:59:41.593097Z",
     "shell.execute_reply": "2024-10-16T00:59:41.592055Z"
    },
    "papermill": {
     "duration": 0.013815,
     "end_time": "2024-10-16T00:59:41.595581",
     "exception": false,
     "start_time": "2024-10-16T00:59:41.581766",
     "status": "completed"
    },
    "tags": []
   },
   "outputs": [],
   "source": [
    "# predictions = predict_model(tune_model)"
   ]
  },
  {
   "cell_type": "markdown",
   "id": "360d9d79",
   "metadata": {
    "papermill": {
     "duration": 0.005035,
     "end_time": "2024-10-16T00:59:41.606023",
     "exception": false,
     "start_time": "2024-10-16T00:59:41.600988",
     "status": "completed"
    },
    "tags": []
   },
   "source": [
    "#### 8- Save the model: You can also save the model to deploy it later:"
   ]
  },
  {
   "cell_type": "code",
   "execution_count": 8,
   "id": "c07d2880",
   "metadata": {
    "execution": {
     "iopub.execute_input": "2024-10-16T00:59:41.618376Z",
     "iopub.status.busy": "2024-10-16T00:59:41.617914Z",
     "iopub.status.idle": "2024-10-16T00:59:41.622586Z",
     "shell.execute_reply": "2024-10-16T00:59:41.621545Z"
    },
    "papermill": {
     "duration": 0.013514,
     "end_time": "2024-10-16T00:59:41.624951",
     "exception": false,
     "start_time": "2024-10-16T00:59:41.611437",
     "status": "completed"
    },
    "tags": []
   },
   "outputs": [],
   "source": [
    "# saved_model(tune_model , 'best_pycaret_model')"
   ]
  },
  {
   "cell_type": "markdown",
   "id": "2c334d61",
   "metadata": {
    "papermill": {
     "duration": 0.005077,
     "end_time": "2024-10-16T00:59:41.635525",
     "exception": false,
     "start_time": "2024-10-16T00:59:41.630448",
     "status": "completed"
    },
    "tags": []
   },
   "source": [
    "# Full example for **Classification** problem"
   ]
  },
  {
   "cell_type": "code",
   "execution_count": 9,
   "id": "cfb59c45",
   "metadata": {
    "execution": {
     "iopub.execute_input": "2024-10-16T00:59:41.647798Z",
     "iopub.status.busy": "2024-10-16T00:59:41.647364Z",
     "iopub.status.idle": "2024-10-16T00:59:41.936891Z",
     "shell.execute_reply": "2024-10-16T00:59:41.935561Z"
    },
    "papermill": {
     "duration": 0.298143,
     "end_time": "2024-10-16T00:59:41.938884",
     "exception": true,
     "start_time": "2024-10-16T00:59:41.640741",
     "status": "failed"
    },
    "tags": []
   },
   "outputs": [
    {
     "ename": "ModuleNotFoundError",
     "evalue": "No module named 'pycaret'",
     "output_type": "error",
     "traceback": [
      "\u001b[0;31m---------------------------------------------------------------------------\u001b[0m",
      "\u001b[0;31mModuleNotFoundError\u001b[0m                       Traceback (most recent call last)",
      "Cell \u001b[0;32mIn[9], line 2\u001b[0m\n\u001b[1;32m      1\u001b[0m \u001b[38;5;66;03m# Step 1: Import PyCaret for classification\u001b[39;00m\n\u001b[0;32m----> 2\u001b[0m \u001b[38;5;28;01mfrom\u001b[39;00m \u001b[38;5;21;01mpycaret\u001b[39;00m\u001b[38;5;21;01m.\u001b[39;00m\u001b[38;5;21;01mclassification\u001b[39;00m \u001b[38;5;28;01mimport\u001b[39;00m \u001b[38;5;241m*\u001b[39m\n\u001b[1;32m      4\u001b[0m \u001b[38;5;66;03m# Step 2: Load a sample dataset (Iris)\u001b[39;00m\n\u001b[1;32m      5\u001b[0m \u001b[38;5;28;01mfrom\u001b[39;00m \u001b[38;5;21;01mpycaret\u001b[39;00m\u001b[38;5;21;01m.\u001b[39;00m\u001b[38;5;21;01mdatasets\u001b[39;00m \u001b[38;5;28;01mimport\u001b[39;00m get_data\n",
      "\u001b[0;31mModuleNotFoundError\u001b[0m: No module named 'pycaret'"
     ]
    }
   ],
   "source": [
    "# Step 1: Import PyCaret for classification\n",
    "from pycaret.classification import *\n",
    "\n",
    "# Step 2: Load a sample dataset (Iris)\n",
    "from pycaret.datasets import get_data\n",
    "data = get_data('iris')\n",
    "\n",
    "# Step 3: Set up the environment\n",
    "clf = setup(data, target='species')\n",
    "\n",
    "# Step 4: Compare models and get the best one\n",
    "best_model = compare_models()\n",
    "\n",
    "# Step 5: Tune the best model\n",
    "tuned_model = tune_model(best_model)\n",
    "\n",
    "# Step 6: Predict using the tuned model\n",
    "predictions = predict_model(tuned_model)\n",
    "\n",
    "# Step 7: Save the model for later use\n",
    "save_model(tuned_model, 'best_pycaret_model')\n",
    "\n",
    "print(predictions)"
   ]
  },
  {
   "cell_type": "markdown",
   "id": "0ebb6126",
   "metadata": {
    "papermill": {
     "duration": null,
     "end_time": null,
     "exception": null,
     "start_time": null,
     "status": "pending"
    },
    "tags": []
   },
   "source": [
    "# Full example for **Regression** problem"
   ]
  },
  {
   "cell_type": "code",
   "execution_count": null,
   "id": "eb689eca",
   "metadata": {
    "execution": {
     "iopub.execute_input": "2024-10-16T00:56:02.187828Z",
     "iopub.status.busy": "2024-10-16T00:56:02.186592Z",
     "iopub.status.idle": "2024-10-16T00:57:56.704388Z",
     "shell.execute_reply": "2024-10-16T00:57:56.702749Z",
     "shell.execute_reply.started": "2024-10-16T00:56:02.187772Z"
    },
    "papermill": {
     "duration": null,
     "end_time": null,
     "exception": null,
     "start_time": null,
     "status": "pending"
    },
    "tags": []
   },
   "outputs": [],
   "source": [
    "# Step 1: Import PyCaret for regression\n",
    "from pycaret.regression import *\n",
    "\n",
    "# Step 2: Load a sample dataset (Boston Housing)\n",
    "from pycaret.datasets import get_data\n",
    "data = get_data('boston')\n",
    "\n",
    "# Step 3: Set up the environment\n",
    "reg = setup(data, target='medv')  # 'medv' is the target variable (house prices)\n",
    "\n",
    "# Step 4: Compare models and select the best one\n",
    "best_model = compare_models()\n",
    "\n",
    "# Step 5: Tune the best model\n",
    "tuned_model = tune_model(best_model)\n",
    "\n",
    "# Step 6: Predict using the tuned model\n",
    "predictions = predict_model(tuned_model)\n",
    "\n",
    "# Step 7: Save the model for later use\n",
    "save_model(tuned_model, 'best_regression_model')\n",
    "\n",
    "print(predictions)"
   ]
  },
  {
   "cell_type": "code",
   "execution_count": null,
   "id": "0671e7bc",
   "metadata": {
    "papermill": {
     "duration": null,
     "end_time": null,
     "exception": null,
     "start_time": null,
     "status": "pending"
    },
    "tags": []
   },
   "outputs": [],
   "source": []
  }
 ],
 "metadata": {
  "kaggle": {
   "accelerator": "none",
   "dataSources": [],
   "dockerImageVersionId": 30786,
   "isGpuEnabled": false,
   "isInternetEnabled": true,
   "language": "python",
   "sourceType": "notebook"
  },
  "kernelspec": {
   "display_name": "Python 3",
   "language": "python",
   "name": "python3"
  },
  "language_info": {
   "codemirror_mode": {
    "name": "ipython",
    "version": 3
   },
   "file_extension": ".py",
   "mimetype": "text/x-python",
   "name": "python",
   "nbconvert_exporter": "python",
   "pygments_lexer": "ipython3",
   "version": "3.10.14"
  },
  "papermill": {
   "default_parameters": {},
   "duration": 3.909356,
   "end_time": "2024-10-16T00:59:42.364426",
   "environment_variables": {},
   "exception": true,
   "input_path": "__notebook__.ipynb",
   "output_path": "__notebook__.ipynb",
   "parameters": {},
   "start_time": "2024-10-16T00:59:38.455070",
   "version": "2.6.0"
  }
 },
 "nbformat": 4,
 "nbformat_minor": 5
}
