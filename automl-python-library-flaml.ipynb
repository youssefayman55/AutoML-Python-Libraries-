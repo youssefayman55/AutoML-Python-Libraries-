{
 "cells": [
  {
   "cell_type": "markdown",
   "id": "385a8f91",
   "metadata": {
    "papermill": {
     "duration": 0.008079,
     "end_time": "2024-10-16T02:15:07.987021",
     "exception": false,
     "start_time": "2024-10-16T02:15:07.978942",
     "status": "completed"
    },
    "tags": []
   },
   "source": [
    "### Traditional machine learning model development is resource-intensive and requires a significant time commitment to produce and compare dozens of models. With automated machine learning, you can accelerate the time it takes to get production-ready ML models with great ease and efficiency."
   ]
  },
  {
   "cell_type": "markdown",
   "id": "83dbe7f3",
   "metadata": {
    "papermill": {
     "duration": 0.007145,
     "end_time": "2024-10-16T02:15:08.001474",
     "exception": false,
     "start_time": "2024-10-16T02:15:07.994329",
     "status": "completed"
    },
    "tags": []
   },
   "source": [
    "### Python has a growing ecosystem of open-source AutoML libraries. like : **FLAML library**"
   ]
  },
  {
   "cell_type": "markdown",
   "id": "2c12b2a6",
   "metadata": {
    "papermill": {
     "duration": 0.006984,
     "end_time": "2024-10-16T02:15:08.016818",
     "exception": false,
     "start_time": "2024-10-16T02:15:08.009834",
     "status": "completed"
    },
    "tags": []
   },
   "source": [
    "# **FLAML** (Fast and Light AutoML) \n",
    "### is an efficient, lightweight, and easy-to-use AutoML (Automated Machine Learning) library developed by Microsoft. It automatically tunes machine learning models to optimize their performance without requiring much user intervention. FLAML is known for being computationally efficient and effective, making it a great choice for building machine learning models quickly and with limited resources."
   ]
  },
  {
   "cell_type": "markdown",
   "id": "046966ee",
   "metadata": {
    "papermill": {
     "duration": 0.006876,
     "end_time": "2024-10-16T02:15:08.031045",
     "exception": false,
     "start_time": "2024-10-16T02:15:08.024169",
     "status": "completed"
    },
    "tags": []
   },
   "source": [
    " # Explanation of how to use the **FLAML** library with an example code:"
   ]
  },
  {
   "cell_type": "markdown",
   "id": "cd90fc85",
   "metadata": {
    "papermill": {
     "duration": 0.00683,
     "end_time": "2024-10-16T02:15:08.045093",
     "exception": false,
     "start_time": "2024-10-16T02:15:08.038263",
     "status": "completed"
    },
    "tags": []
   },
   "source": [
    "### 1- Installation : You can install FLAML via pip:"
   ]
  },
  {
   "cell_type": "code",
   "execution_count": 1,
   "id": "ab58b89d",
   "metadata": {
    "_cell_guid": "b1076dfc-b9ad-4769-8c92-a6c4dae69d19",
    "_uuid": "8f2839f25d086af736a60e9eeb907d3b93b6e0e5",
    "execution": {
     "iopub.execute_input": "2024-10-16T02:15:08.062778Z",
     "iopub.status.busy": "2024-10-16T02:15:08.061572Z",
     "iopub.status.idle": "2024-10-16T02:15:08.068263Z",
     "shell.execute_reply": "2024-10-16T02:15:08.067197Z"
    },
    "papermill": {
     "duration": 0.018623,
     "end_time": "2024-10-16T02:15:08.070777",
     "exception": false,
     "start_time": "2024-10-16T02:15:08.052154",
     "status": "completed"
    },
    "tags": []
   },
   "outputs": [],
   "source": [
    "# pip install flaml"
   ]
  },
  {
   "cell_type": "markdown",
   "id": "d734c031",
   "metadata": {
    "papermill": {
     "duration": 0.007174,
     "end_time": "2024-10-16T02:15:08.086734",
     "exception": false,
     "start_time": "2024-10-16T02:15:08.079560",
     "status": "completed"
    },
    "tags": []
   },
   "source": [
    "### 2- Import FLAML "
   ]
  },
  {
   "cell_type": "code",
   "execution_count": 2,
   "id": "9da47256",
   "metadata": {
    "execution": {
     "iopub.execute_input": "2024-10-16T02:15:08.104177Z",
     "iopub.status.busy": "2024-10-16T02:15:08.103699Z",
     "iopub.status.idle": "2024-10-16T02:15:08.108877Z",
     "shell.execute_reply": "2024-10-16T02:15:08.107643Z"
    },
    "papermill": {
     "duration": 0.016833,
     "end_time": "2024-10-16T02:15:08.111397",
     "exception": false,
     "start_time": "2024-10-16T02:15:08.094564",
     "status": "completed"
    },
    "tags": []
   },
   "outputs": [],
   "source": [
    "# from flaml import AutoML"
   ]
  },
  {
   "cell_type": "markdown",
   "id": "868a8150",
   "metadata": {
    "papermill": {
     "duration": 0.007023,
     "end_time": "2024-10-16T02:15:08.125823",
     "exception": false,
     "start_time": "2024-10-16T02:15:08.118800",
     "status": "completed"
    },
    "tags": []
   },
   "source": [
    "### 3- Loading Dataset: We use sklearn.datasets to load the Iris dataset."
   ]
  },
  {
   "cell_type": "code",
   "execution_count": 3,
   "id": "4aaab02a",
   "metadata": {
    "execution": {
     "iopub.execute_input": "2024-10-16T02:15:08.142796Z",
     "iopub.status.busy": "2024-10-16T02:15:08.142270Z",
     "iopub.status.idle": "2024-10-16T02:15:08.147615Z",
     "shell.execute_reply": "2024-10-16T02:15:08.146396Z"
    },
    "papermill": {
     "duration": 0.016694,
     "end_time": "2024-10-16T02:15:08.149951",
     "exception": false,
     "start_time": "2024-10-16T02:15:08.133257",
     "status": "completed"
    },
    "tags": []
   },
   "outputs": [],
   "source": [
    "# from sklearn.datasets import iris_data "
   ]
  },
  {
   "cell_type": "markdown",
   "id": "d219d958",
   "metadata": {
    "papermill": {
     "duration": 0.007522,
     "end_time": "2024-10-16T02:15:08.164938",
     "exception": false,
     "start_time": "2024-10-16T02:15:08.157416",
     "status": "completed"
    },
    "tags": []
   },
   "source": [
    "### 4- Splitting the Data: The dataset is split into training and testing sets using train_test_split."
   ]
  },
  {
   "cell_type": "code",
   "execution_count": 4,
   "id": "03a749c9",
   "metadata": {
    "execution": {
     "iopub.execute_input": "2024-10-16T02:15:08.182445Z",
     "iopub.status.busy": "2024-10-16T02:15:08.181069Z",
     "iopub.status.idle": "2024-10-16T02:15:08.186962Z",
     "shell.execute_reply": "2024-10-16T02:15:08.185711Z"
    },
    "papermill": {
     "duration": 0.01744,
     "end_time": "2024-10-16T02:15:08.189650",
     "exception": false,
     "start_time": "2024-10-16T02:15:08.172210",
     "status": "completed"
    },
    "tags": []
   },
   "outputs": [],
   "source": [
    "# from sklearn.model_selection import train_test_split "
   ]
  },
  {
   "cell_type": "markdown",
   "id": "a5aba8aa",
   "metadata": {
    "papermill": {
     "duration": 0.007121,
     "end_time": "2024-10-16T02:15:08.204501",
     "exception": false,
     "start_time": "2024-10-16T02:15:08.197380",
     "status": "completed"
    },
    "tags": []
   },
   "source": [
    "### 5- FLAML AutoML Object: The AutoML object from the flaml library is initialized."
   ]
  },
  {
   "cell_type": "code",
   "execution_count": 5,
   "id": "87546eee",
   "metadata": {
    "execution": {
     "iopub.execute_input": "2024-10-16T02:15:08.221451Z",
     "iopub.status.busy": "2024-10-16T02:15:08.220940Z",
     "iopub.status.idle": "2024-10-16T02:15:08.226972Z",
     "shell.execute_reply": "2024-10-16T02:15:08.225572Z"
    },
    "papermill": {
     "duration": 0.017863,
     "end_time": "2024-10-16T02:15:08.229722",
     "exception": false,
     "start_time": "2024-10-16T02:15:08.211859",
     "status": "completed"
    },
    "tags": []
   },
   "outputs": [],
   "source": [
    "# automl = AutoML()"
   ]
  },
  {
   "cell_type": "markdown",
   "id": "e1ef251e",
   "metadata": {
    "papermill": {
     "duration": 0.007254,
     "end_time": "2024-10-16T02:15:08.244719",
     "exception": false,
     "start_time": "2024-10-16T02:15:08.237465",
     "status": "completed"
    },
    "tags": []
   },
   "source": [
    "### 6- AutoML Settings: We define a dictionary for various settings like time budget, metric (accuracy), and task (classification)."
   ]
  },
  {
   "cell_type": "code",
   "execution_count": 6,
   "id": "7621f429",
   "metadata": {
    "execution": {
     "iopub.execute_input": "2024-10-16T02:15:08.263577Z",
     "iopub.status.busy": "2024-10-16T02:15:08.263032Z",
     "iopub.status.idle": "2024-10-16T02:15:08.268535Z",
     "shell.execute_reply": "2024-10-16T02:15:08.267392Z"
    },
    "papermill": {
     "duration": 0.017977,
     "end_time": "2024-10-16T02:15:08.271080",
     "exception": false,
     "start_time": "2024-10-16T02:15:08.253103",
     "status": "completed"
    },
    "tags": []
   },
   "outputs": [],
   "source": [
    "# automl_settings = {\n",
    "#     \"time_budget\": 60,  # total running time in seconds\n",
    "#     \"metric\": 'accuracy',  # optimization metric\n",
    "#     \"task\": 'classification',  # task type\n",
    "#     \"log_file_name\": \"flaml_iris.log\",  # file to save logs\n",
    "# }"
   ]
  },
  {
   "cell_type": "markdown",
   "id": "150a4239",
   "metadata": {
    "papermill": {
     "duration": 0.007155,
     "end_time": "2024-10-16T02:15:08.285959",
     "exception": false,
     "start_time": "2024-10-16T02:15:08.278804",
     "status": "completed"
    },
    "tags": []
   },
   "source": [
    "### 7- Fitting the Model: The automl.fit() method runs the AutoML process, tuning various models and hyperparameters to find the best one."
   ]
  },
  {
   "cell_type": "code",
   "execution_count": 7,
   "id": "cbb0772e",
   "metadata": {
    "execution": {
     "iopub.execute_input": "2024-10-16T02:15:08.303501Z",
     "iopub.status.busy": "2024-10-16T02:15:08.302986Z",
     "iopub.status.idle": "2024-10-16T02:15:08.309132Z",
     "shell.execute_reply": "2024-10-16T02:15:08.307633Z"
    },
    "papermill": {
     "duration": 0.018933,
     "end_time": "2024-10-16T02:15:08.312498",
     "exception": false,
     "start_time": "2024-10-16T02:15:08.293565",
     "status": "completed"
    },
    "tags": []
   },
   "outputs": [],
   "source": [
    "# automl.fit(X_train = X_train , y_train = y_train , **automl_settings)"
   ]
  },
  {
   "cell_type": "markdown",
   "id": "7d708a55",
   "metadata": {
    "papermill": {
     "duration": 0.007996,
     "end_time": "2024-10-16T02:15:08.328924",
     "exception": false,
     "start_time": "2024-10-16T02:15:08.320928",
     "status": "completed"
    },
    "tags": []
   },
   "source": [
    "### 8- Make predictions: You can use predict function from AutoML process to make predictions on new data."
   ]
  },
  {
   "cell_type": "code",
   "execution_count": 8,
   "id": "d3015d52",
   "metadata": {
    "execution": {
     "iopub.execute_input": "2024-10-16T02:15:08.346774Z",
     "iopub.status.busy": "2024-10-16T02:15:08.346231Z",
     "iopub.status.idle": "2024-10-16T02:15:08.352165Z",
     "shell.execute_reply": "2024-10-16T02:15:08.350825Z"
    },
    "papermill": {
     "duration": 0.018156,
     "end_time": "2024-10-16T02:15:08.354940",
     "exception": false,
     "start_time": "2024-10-16T02:15:08.336784",
     "status": "completed"
    },
    "tags": []
   },
   "outputs": [],
   "source": [
    "# predictions = automl.predict(X_test)"
   ]
  },
  {
   "cell_type": "markdown",
   "id": "46975606",
   "metadata": {
    "papermill": {
     "duration": 0.007337,
     "end_time": "2024-10-16T02:15:08.370201",
     "exception": false,
     "start_time": "2024-10-16T02:15:08.362864",
     "status": "completed"
    },
    "tags": []
   },
   "source": [
    "### 9- Evaluating the Model: We use the accuracy_score to evaluate the model on the test data."
   ]
  },
  {
   "cell_type": "code",
   "execution_count": 9,
   "id": "6a983f68",
   "metadata": {
    "execution": {
     "iopub.execute_input": "2024-10-16T02:15:08.388253Z",
     "iopub.status.busy": "2024-10-16T02:15:08.387323Z",
     "iopub.status.idle": "2024-10-16T02:15:08.392764Z",
     "shell.execute_reply": "2024-10-16T02:15:08.391534Z"
    },
    "papermill": {
     "duration": 0.017345,
     "end_time": "2024-10-16T02:15:08.395198",
     "exception": false,
     "start_time": "2024-10-16T02:15:08.377853",
     "status": "completed"
    },
    "tags": []
   },
   "outputs": [],
   "source": [
    "# accuracy = accuracy_score(y_test , predictions)\n",
    "# print(\"Accuracy on test set:\", accuracy)"
   ]
  },
  {
   "cell_type": "markdown",
   "id": "aaf9a1eb",
   "metadata": {
    "papermill": {
     "duration": 0.007601,
     "end_time": "2024-10-16T02:15:08.410763",
     "exception": false,
     "start_time": "2024-10-16T02:15:08.403162",
     "status": "completed"
    },
    "tags": []
   },
   "source": [
    "# Example: AutoML for **Classification** using **FLAML**"
   ]
  },
  {
   "cell_type": "code",
   "execution_count": 10,
   "id": "5df63946",
   "metadata": {
    "execution": {
     "iopub.execute_input": "2024-10-16T02:15:08.428602Z",
     "iopub.status.busy": "2024-10-16T02:15:08.427960Z",
     "iopub.status.idle": "2024-10-16T02:15:08.848884Z",
     "shell.execute_reply": "2024-10-16T02:15:08.847120Z"
    },
    "papermill": {
     "duration": 0.432863,
     "end_time": "2024-10-16T02:15:08.851353",
     "exception": true,
     "start_time": "2024-10-16T02:15:08.418490",
     "status": "failed"
    },
    "tags": []
   },
   "outputs": [
    {
     "ename": "ModuleNotFoundError",
     "evalue": "No module named 'flaml'",
     "output_type": "error",
     "traceback": [
      "\u001b[0;31m---------------------------------------------------------------------------\u001b[0m",
      "\u001b[0;31mModuleNotFoundError\u001b[0m                       Traceback (most recent call last)",
      "Cell \u001b[0;32mIn[10], line 2\u001b[0m\n\u001b[1;32m      1\u001b[0m \u001b[38;5;66;03m# Importing necessary libraries\u001b[39;00m\n\u001b[0;32m----> 2\u001b[0m \u001b[38;5;28;01mfrom\u001b[39;00m \u001b[38;5;21;01mflaml\u001b[39;00m \u001b[38;5;28;01mimport\u001b[39;00m AutoML\n\u001b[1;32m      3\u001b[0m \u001b[38;5;28;01mfrom\u001b[39;00m \u001b[38;5;21;01msklearn\u001b[39;00m\u001b[38;5;21;01m.\u001b[39;00m\u001b[38;5;21;01mdatasets\u001b[39;00m \u001b[38;5;28;01mimport\u001b[39;00m load_iris\n\u001b[1;32m      4\u001b[0m \u001b[38;5;28;01mfrom\u001b[39;00m \u001b[38;5;21;01msklearn\u001b[39;00m\u001b[38;5;21;01m.\u001b[39;00m\u001b[38;5;21;01mmodel_selection\u001b[39;00m \u001b[38;5;28;01mimport\u001b[39;00m train_test_split\n",
      "\u001b[0;31mModuleNotFoundError\u001b[0m: No module named 'flaml'"
     ]
    }
   ],
   "source": [
    "# Importing necessary libraries\n",
    "from flaml import AutoML\n",
    "from sklearn.datasets import load_iris\n",
    "from sklearn.model_selection import train_test_split\n",
    "from sklearn.metrics import accuracy_score\n",
    "import warnings \n",
    "warnings.filterwarnings('ignore')\n",
    "\n",
    "# Load the Iris dataset\n",
    "data = load_iris()\n",
    "X, y = data.data, data.target\n",
    "\n",
    "# Split the data into training and test sets\n",
    "X_train, X_test, y_train, y_test = train_test_split(X, y, test_size = 0.2, random_state = 42)\n",
    "\n",
    "# Initialize the FLAML AutoML object\n",
    "automl = AutoML()\n",
    "\n",
    "# Specify the AutoML settings\n",
    "automl_settings = {\n",
    "    \"time_budget\": 60,  # total running time in seconds\n",
    "    \"metric\": 'accuracy',  # optimization metric\n",
    "    \"task\": 'classification',  # task type\n",
    "    \"log_file_name\": \"flaml_iris.log\",  # file to save logs\n",
    "}\n",
    "\n",
    "# Run AutoML to find the best model\n",
    "automl.fit(X_train=X_train, y_train=y_train, **automl_settings)\n",
    "\n",
    "# Get the best model\n",
    "print(\"Best ML model:\", automl.best_estimator)\n",
    "\n",
    "# Predict on the test set\n",
    "y_pred = automl.predict(X_test)\n",
    "\n",
    "# Evaluate the model\n",
    "accuracy = accuracy_score(y_test, y_pred)\n",
    "print(\"Accuracy on test set:\", accuracy)\n"
   ]
  },
  {
   "cell_type": "markdown",
   "id": "5913f328",
   "metadata": {
    "papermill": {
     "duration": null,
     "end_time": null,
     "exception": null,
     "start_time": null,
     "status": "pending"
    },
    "tags": []
   },
   "source": [
    "# Example: AutoML for **Regression** using **FLAML**"
   ]
  },
  {
   "cell_type": "code",
   "execution_count": null,
   "id": "c7b924e0",
   "metadata": {
    "papermill": {
     "duration": null,
     "end_time": null,
     "exception": null,
     "start_time": null,
     "status": "pending"
    },
    "tags": []
   },
   "outputs": [],
   "source": [
    "# Importing necessary libraries\n",
    "from flaml import AutoML\n",
    "from sklearn.datasets import load_boston\n",
    "from sklearn.model_selection import train_test_split\n",
    "from sklearn.metrics import mean_squared_error\n",
    "\n",
    "# Load the Boston Housing dataset\n",
    "data = load_boston()\n",
    "X, y = data.data, data.target\n",
    "\n",
    "# Split the data into training and test sets\n",
    "X_train, X_test, y_train, y_test = train_test_split(X, y, test_size=0.2, random_state=42)\n",
    "\n",
    "# Initialize the FLAML AutoML object\n",
    "automl = AutoML()\n",
    "\n",
    "# Specify the AutoML settings for regression\n",
    "automl_settings = {\n",
    "    \"time_budget\": 60,  # total running time in seconds\n",
    "    \"metric\": 'rmse',   # optimization metric (Root Mean Squared Error)\n",
    "    \"task\": 'regression',  # task type\n",
    "    \"log_file_name\": \"flaml_boston.log\",  # file to save logs\n",
    "}\n",
    "\n",
    "# Run AutoML to find the best model\n",
    "automl.fit(X_train=X_train, y_train=y_train, **automl_settings)\n",
    "\n",
    "# Get the best model\n",
    "print(\"Best ML model:\", automl.best_estimator)\n",
    "\n",
    "# Predict on the test set\n",
    "y_pred = automl.predict(X_test)\n",
    "\n",
    "# Evaluate the model using RMSE\n",
    "rmse = mean_squared_error(y_test, y_pred, squared=False)\n",
    "print(\"RMSE on test set:\", rmse)"
   ]
  }
 ],
 "metadata": {
  "kaggle": {
   "accelerator": "none",
   "dataSources": [],
   "dockerImageVersionId": 30786,
   "isGpuEnabled": false,
   "isInternetEnabled": true,
   "language": "python",
   "sourceType": "notebook"
  },
  "kernelspec": {
   "display_name": "Python 3",
   "language": "python",
   "name": "python3"
  },
  "language_info": {
   "codemirror_mode": {
    "name": "ipython",
    "version": 3
   },
   "file_extension": ".py",
   "mimetype": "text/x-python",
   "name": "python",
   "nbconvert_exporter": "python",
   "pygments_lexer": "ipython3",
   "version": "3.10.14"
  },
  "papermill": {
   "default_parameters": {},
   "duration": 4.913749,
   "end_time": "2024-10-16T02:15:09.483468",
   "environment_variables": {},
   "exception": true,
   "input_path": "__notebook__.ipynb",
   "output_path": "__notebook__.ipynb",
   "parameters": {},
   "start_time": "2024-10-16T02:15:04.569719",
   "version": "2.6.0"
  }
 },
 "nbformat": 4,
 "nbformat_minor": 5
}
