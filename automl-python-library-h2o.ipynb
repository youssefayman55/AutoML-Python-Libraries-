{
 "cells": [
  {
   "cell_type": "markdown",
   "id": "3fe2aee3",
   "metadata": {
    "papermill": {
     "duration": 0.006288,
     "end_time": "2024-10-16T01:29:05.257527",
     "exception": false,
     "start_time": "2024-10-16T01:29:05.251239",
     "status": "completed"
    },
    "tags": []
   },
   "source": [
    "### Automated machine learning, also referred to as automated ML or AutoML, is the process of automating the time-consuming, iterative tasks of machine learning model development. It allows data scientists, analysts, and developers to build ML models with high scale, efficiency, and productivity all while sustaining model quality."
   ]
  },
  {
   "cell_type": "markdown",
   "id": "289de5ae",
   "metadata": {
    "papermill": {
     "duration": 0.005298,
     "end_time": "2024-10-16T01:29:05.268695",
     "exception": false,
     "start_time": "2024-10-16T01:29:05.263397",
     "status": "completed"
    },
    "tags": []
   },
   "source": [
    "### Traditional machine learning model development is resource-intensive and requires a significant time commitment to produce and compare dozens of models. With automated machine learning, you can accelerate the time it takes to get production-ready ML models with great ease and efficiency."
   ]
  },
  {
   "cell_type": "markdown",
   "id": "01ff5438",
   "metadata": {
    "papermill": {
     "duration": 0.005273,
     "end_time": "2024-10-16T01:29:05.279436",
     "exception": false,
     "start_time": "2024-10-16T01:29:05.274163",
     "status": "completed"
    },
    "tags": []
   },
   "source": [
    "### Python has a growing ecosystem of open-source AutoML libraries. like : **H2O library**"
   ]
  },
  {
   "cell_type": "markdown",
   "id": "bb58ecad",
   "metadata": {
    "papermill": {
     "duration": 0.005193,
     "end_time": "2024-10-16T01:29:05.290031",
     "exception": false,
     "start_time": "2024-10-16T01:29:05.284838",
     "status": "completed"
    },
    "tags": []
   },
   "source": [
    "# **H2O**\n",
    "### H2O.ai's AutoML is an open-source machine learning library that automates the process of building and optimizing machine learning models. It supports tasks like classification, regression, time-series forecasting, and more. H2O AutoML automates tasks such as data preprocessing, feature engineering, model selection, and hyperparameter tuning."
   ]
  },
  {
   "cell_type": "markdown",
   "id": "c3c290e8",
   "metadata": {
    "papermill": {
     "duration": 0.005283,
     "end_time": "2024-10-16T01:29:05.300797",
     "exception": false,
     "start_time": "2024-10-16T01:29:05.295514",
     "status": "completed"
    },
    "tags": []
   },
   "source": [
    "# Steps for using **H2O** AutoML:"
   ]
  },
  {
   "cell_type": "markdown",
   "id": "ddff8948",
   "metadata": {
    "papermill": {
     "duration": 0.006125,
     "end_time": "2024-10-16T01:29:05.312607",
     "exception": false,
     "start_time": "2024-10-16T01:29:05.306482",
     "status": "completed"
    },
    "tags": []
   },
   "source": [
    "### 1- Install the H2O library: You can install the H2O library using the following command:"
   ]
  },
  {
   "cell_type": "code",
   "execution_count": 1,
   "id": "34baf110",
   "metadata": {
    "_cell_guid": "b1076dfc-b9ad-4769-8c92-a6c4dae69d19",
    "_uuid": "8f2839f25d086af736a60e9eeb907d3b93b6e0e5",
    "execution": {
     "iopub.execute_input": "2024-10-16T01:29:05.324952Z",
     "iopub.status.busy": "2024-10-16T01:29:05.324568Z",
     "iopub.status.idle": "2024-10-16T01:29:05.329622Z",
     "shell.execute_reply": "2024-10-16T01:29:05.328808Z"
    },
    "papermill": {
     "duration": 0.013592,
     "end_time": "2024-10-16T01:29:05.331564",
     "exception": false,
     "start_time": "2024-10-16T01:29:05.317972",
     "status": "completed"
    },
    "tags": []
   },
   "outputs": [],
   "source": [
    "# pip install h2o"
   ]
  },
  {
   "cell_type": "markdown",
   "id": "8c3c54af",
   "metadata": {
    "papermill": {
     "duration": 0.005152,
     "end_time": "2024-10-16T01:29:05.342222",
     "exception": false,
     "start_time": "2024-10-16T01:29:05.337070",
     "status": "completed"
    },
    "tags": []
   },
   "source": [
    "### 2- Initialize H2O: Before using H2O AutoML, you need to initialize the H2O environment."
   ]
  },
  {
   "cell_type": "code",
   "execution_count": 2,
   "id": "93ae0285",
   "metadata": {
    "execution": {
     "iopub.execute_input": "2024-10-16T01:29:05.354601Z",
     "iopub.status.busy": "2024-10-16T01:29:05.354214Z",
     "iopub.status.idle": "2024-10-16T01:29:05.358416Z",
     "shell.execute_reply": "2024-10-16T01:29:05.357559Z"
    },
    "papermill": {
     "duration": 0.012745,
     "end_time": "2024-10-16T01:29:05.360315",
     "exception": false,
     "start_time": "2024-10-16T01:29:05.347570",
     "status": "completed"
    },
    "tags": []
   },
   "outputs": [],
   "source": [
    "# import h2o \n",
    "# h2o.init()"
   ]
  },
  {
   "cell_type": "markdown",
   "id": "2beb97f5",
   "metadata": {
    "papermill": {
     "duration": 0.005343,
     "end_time": "2024-10-16T01:29:05.371523",
     "exception": false,
     "start_time": "2024-10-16T01:29:05.366180",
     "status": "completed"
    },
    "tags": []
   },
   "source": [
    "### 3- Load your dataset: H2O uses its own data structures called H2OFrame. You can load data from CSV, Pandas, or any other source and convert it to H2OFrame."
   ]
  },
  {
   "cell_type": "code",
   "execution_count": 3,
   "id": "b540dd99",
   "metadata": {
    "execution": {
     "iopub.execute_input": "2024-10-16T01:29:05.384727Z",
     "iopub.status.busy": "2024-10-16T01:29:05.383919Z",
     "iopub.status.idle": "2024-10-16T01:29:05.388297Z",
     "shell.execute_reply": "2024-10-16T01:29:05.387254Z"
    },
    "papermill": {
     "duration": 0.013232,
     "end_time": "2024-10-16T01:29:05.390327",
     "exception": false,
     "start_time": "2024-10-16T01:29:05.377095",
     "status": "completed"
    },
    "tags": []
   },
   "outputs": [],
   "source": [
    "# data = h2o.import_file(\"your_data.csv\")"
   ]
  },
  {
   "cell_type": "markdown",
   "id": "e1319328",
   "metadata": {
    "papermill": {
     "duration": 0.005375,
     "end_time": "2024-10-16T01:29:05.401413",
     "exception": false,
     "start_time": "2024-10-16T01:29:05.396038",
     "status": "completed"
    },
    "tags": []
   },
   "source": [
    "### 4- Split the dataset: It's good practice to split the dataset into training and testing sets:"
   ]
  },
  {
   "cell_type": "code",
   "execution_count": 4,
   "id": "dd72b3a6",
   "metadata": {
    "execution": {
     "iopub.execute_input": "2024-10-16T01:29:05.414641Z",
     "iopub.status.busy": "2024-10-16T01:29:05.413888Z",
     "iopub.status.idle": "2024-10-16T01:29:05.418214Z",
     "shell.execute_reply": "2024-10-16T01:29:05.417213Z"
    },
    "papermill": {
     "duration": 0.013165,
     "end_time": "2024-10-16T01:29:05.420178",
     "exception": false,
     "start_time": "2024-10-16T01:29:05.407013",
     "status": "completed"
    },
    "tags": []
   },
   "outputs": [],
   "source": [
    "# train , test = data.split_frame(rations = [0.8] , seed = 1234 ) # 80% train, 20% test"
   ]
  },
  {
   "cell_type": "markdown",
   "id": "0cffbdd8",
   "metadata": {
    "papermill": {
     "duration": 0.005495,
     "end_time": "2024-10-16T01:29:05.431353",
     "exception": false,
     "start_time": "2024-10-16T01:29:05.425858",
     "status": "completed"
    },
    "tags": []
   },
   "source": [
    "### 5- Define the target and features: Specify the target (dependent) variable and the feature (independent) variables."
   ]
  },
  {
   "cell_type": "code",
   "execution_count": 5,
   "id": "352210ae",
   "metadata": {
    "execution": {
     "iopub.execute_input": "2024-10-16T01:29:05.444619Z",
     "iopub.status.busy": "2024-10-16T01:29:05.443867Z",
     "iopub.status.idle": "2024-10-16T01:29:05.447972Z",
     "shell.execute_reply": "2024-10-16T01:29:05.447062Z"
    },
    "papermill": {
     "duration": 0.012921,
     "end_time": "2024-10-16T01:29:05.449913",
     "exception": false,
     "start_time": "2024-10-16T01:29:05.436992",
     "status": "completed"
    },
    "tags": []
   },
   "outputs": [],
   "source": [
    "# target = 'target_column' # your target column \n",
    "# features = data.columns \n",
    "# features.remove(target)  # remove target from features "
   ]
  },
  {
   "cell_type": "markdown",
   "id": "aeb9c89e",
   "metadata": {
    "papermill": {
     "duration": 0.005386,
     "end_time": "2024-10-16T01:29:05.461006",
     "exception": false,
     "start_time": "2024-10-16T01:29:05.455620",
     "status": "completed"
    },
    "tags": []
   },
   "source": [
    "### 6- Run AutoML: The H2OAutoML class automates the entire machine learning pipeline. You can set parameters like the maximum run time or the number of models to build"
   ]
  },
  {
   "cell_type": "code",
   "execution_count": 6,
   "id": "27498142",
   "metadata": {
    "execution": {
     "iopub.execute_input": "2024-10-16T01:29:05.474162Z",
     "iopub.status.busy": "2024-10-16T01:29:05.473511Z",
     "iopub.status.idle": "2024-10-16T01:29:05.477904Z",
     "shell.execute_reply": "2024-10-16T01:29:05.476918Z"
    },
    "papermill": {
     "duration": 0.013117,
     "end_time": "2024-10-16T01:29:05.479801",
     "exception": false,
     "start_time": "2024-10-16T01:29:05.466684",
     "status": "completed"
    },
    "tags": []
   },
   "outputs": [],
   "source": [
    "# from h2o.automl import H2OAutoML\n",
    "\n",
    "# aml = H2OAutoML(max_runtime_secs = 600, # Run for 10 minutes\n",
    "#                seed = 1234,\n",
    "#                max_models = 10 # Set a limit for the number of models \n",
    "#                )\n",
    "# aml.train(x = features , y = target , training_frame = train)"
   ]
  },
  {
   "cell_type": "markdown",
   "id": "185bbb86",
   "metadata": {
    "papermill": {
     "duration": 0.005695,
     "end_time": "2024-10-16T01:29:05.491221",
     "exception": false,
     "start_time": "2024-10-16T01:29:05.485526",
     "status": "completed"
    },
    "tags": []
   },
   "source": [
    "### 7- View the leaderboard: After training, you can view the leaderboard of models ranked by performance metrics."
   ]
  },
  {
   "cell_type": "code",
   "execution_count": 7,
   "id": "1176226b",
   "metadata": {
    "execution": {
     "iopub.execute_input": "2024-10-16T01:29:05.504326Z",
     "iopub.status.busy": "2024-10-16T01:29:05.503582Z",
     "iopub.status.idle": "2024-10-16T01:29:05.507689Z",
     "shell.execute_reply": "2024-10-16T01:29:05.506771Z"
    },
    "papermill": {
     "duration": 0.012943,
     "end_time": "2024-10-16T01:29:05.509700",
     "exception": false,
     "start_time": "2024-10-16T01:29:05.496757",
     "status": "completed"
    },
    "tags": []
   },
   "outputs": [],
   "source": [
    "# lb = aml.leaderboard\n",
    "# print(lb)"
   ]
  },
  {
   "cell_type": "markdown",
   "id": "066117b3",
   "metadata": {
    "papermill": {
     "duration": 0.005333,
     "end_time": "2024-10-16T01:29:05.520699",
     "exception": false,
     "start_time": "2024-10-16T01:29:05.515366",
     "status": "completed"
    },
    "tags": []
   },
   "source": [
    "### 8- Make predictions: You can use the best model (leader) from the AutoML process to make predictions on new data."
   ]
  },
  {
   "cell_type": "code",
   "execution_count": 8,
   "id": "a99dac9a",
   "metadata": {
    "execution": {
     "iopub.execute_input": "2024-10-16T01:29:05.533574Z",
     "iopub.status.busy": "2024-10-16T01:29:05.532858Z",
     "iopub.status.idle": "2024-10-16T01:29:05.536822Z",
     "shell.execute_reply": "2024-10-16T01:29:05.535921Z"
    },
    "papermill": {
     "duration": 0.012598,
     "end_time": "2024-10-16T01:29:05.538811",
     "exception": false,
     "start_time": "2024-10-16T01:29:05.526213",
     "status": "completed"
    },
    "tags": []
   },
   "outputs": [],
   "source": [
    "# predictions = aml.leader.predict(test)\n",
    "# print(predictions)"
   ]
  },
  {
   "cell_type": "markdown",
   "id": "67dc8665",
   "metadata": {
    "papermill": {
     "duration": 0.005363,
     "end_time": "2024-10-16T01:29:05.549894",
     "exception": false,
     "start_time": "2024-10-16T01:29:05.544531",
     "status": "completed"
    },
    "tags": []
   },
   "source": [
    "### 9- Evaluate the performance of the model on the test set : "
   ]
  },
  {
   "cell_type": "code",
   "execution_count": 9,
   "id": "5a70e9f2",
   "metadata": {
    "execution": {
     "iopub.execute_input": "2024-10-16T01:29:05.562635Z",
     "iopub.status.busy": "2024-10-16T01:29:05.562262Z",
     "iopub.status.idle": "2024-10-16T01:29:05.566365Z",
     "shell.execute_reply": "2024-10-16T01:29:05.565440Z"
    },
    "papermill": {
     "duration": 0.012923,
     "end_time": "2024-10-16T01:29:05.568248",
     "exception": false,
     "start_time": "2024-10-16T01:29:05.555325",
     "status": "completed"
    },
    "tags": []
   },
   "outputs": [],
   "source": [
    "# performance = aml.leader.model_performance(test)\n",
    "# print(performance)"
   ]
  },
  {
   "cell_type": "markdown",
   "id": "6b204bf1",
   "metadata": {
    "papermill": {
     "duration": 0.005202,
     "end_time": "2024-10-16T01:29:05.578936",
     "exception": false,
     "start_time": "2024-10-16T01:29:05.573734",
     "status": "completed"
    },
    "tags": []
   },
   "source": [
    "### 10- Save the model: You can save the best model to use later."
   ]
  },
  {
   "cell_type": "code",
   "execution_count": 10,
   "id": "0d527276",
   "metadata": {
    "execution": {
     "iopub.execute_input": "2024-10-16T01:29:05.591744Z",
     "iopub.status.busy": "2024-10-16T01:29:05.590924Z",
     "iopub.status.idle": "2024-10-16T01:29:05.595259Z",
     "shell.execute_reply": "2024-10-16T01:29:05.594330Z"
    },
    "papermill": {
     "duration": 0.012944,
     "end_time": "2024-10-16T01:29:05.597269",
     "exception": false,
     "start_time": "2024-10-16T01:29:05.584325",
     "status": "completed"
    },
    "tags": []
   },
   "outputs": [],
   "source": [
    "# model_path = h2o.save_model(model = aml.leader , path = 'best_model' , force = True)"
   ]
  },
  {
   "cell_type": "markdown",
   "id": "c677425e",
   "metadata": {
    "papermill": {
     "duration": 0.005334,
     "end_time": "2024-10-16T01:29:05.608136",
     "exception": false,
     "start_time": "2024-10-16T01:29:05.602802",
     "status": "completed"
    },
    "tags": []
   },
   "source": [
    "# Example for **Classification** problem"
   ]
  },
  {
   "cell_type": "code",
   "execution_count": 11,
   "id": "f56f5b3d",
   "metadata": {
    "execution": {
     "iopub.execute_input": "2024-10-16T01:29:05.621389Z",
     "iopub.status.busy": "2024-10-16T01:29:05.620549Z",
     "iopub.status.idle": "2024-10-16T01:29:14.753056Z",
     "shell.execute_reply": "2024-10-16T01:29:14.751570Z"
    },
    "papermill": {
     "duration": 9.141125,
     "end_time": "2024-10-16T01:29:14.754941",
     "exception": true,
     "start_time": "2024-10-16T01:29:05.613816",
     "status": "failed"
    },
    "tags": []
   },
   "outputs": [
    {
     "name": "stdout",
     "output_type": "stream",
     "text": [
      "Checking whether there is an H2O instance running at http://localhost:54321..... not found.\n",
      "Attempting to start a local H2O server...\n",
      "  Java Version: openjdk version \"11.0.24\" 2024-07-16; OpenJDK Runtime Environment (build 11.0.24+8-post-Ubuntu-1ubuntu320.04); OpenJDK 64-Bit Server VM (build 11.0.24+8-post-Ubuntu-1ubuntu320.04, mixed mode, sharing)\n",
      "  Starting server from /opt/conda/lib/python3.10/site-packages/h2o/backend/bin/h2o.jar\n",
      "  Ice root: /tmp/tmpp_rcins1\n",
      "  JVM stdout: /tmp/tmpp_rcins1/h2o_unknownUser_started_from_python.out\n",
      "  JVM stderr: /tmp/tmpp_rcins1/h2o_unknownUser_started_from_python.err\n",
      "  Server is running at http://127.0.0.1:54321\n",
      "Connecting to H2O server at http://127.0.0.1:54321 ... successful.\n"
     ]
    },
    {
     "data": {
      "text/html": [
       "\n",
       "<style>\n",
       "\n",
       "#h2o-table-1.h2o-container {\n",
       "  overflow-x: auto;\n",
       "}\n",
       "#h2o-table-1 .h2o-table {\n",
       "  /* width: 100%; */\n",
       "  margin-top: 1em;\n",
       "  margin-bottom: 1em;\n",
       "}\n",
       "#h2o-table-1 .h2o-table caption {\n",
       "  white-space: nowrap;\n",
       "  caption-side: top;\n",
       "  text-align: left;\n",
       "  /* margin-left: 1em; */\n",
       "  margin: 0;\n",
       "  font-size: larger;\n",
       "}\n",
       "#h2o-table-1 .h2o-table thead {\n",
       "  white-space: nowrap; \n",
       "  position: sticky;\n",
       "  top: 0;\n",
       "  box-shadow: 0 -1px inset;\n",
       "}\n",
       "#h2o-table-1 .h2o-table tbody {\n",
       "  overflow: auto;\n",
       "}\n",
       "#h2o-table-1 .h2o-table th,\n",
       "#h2o-table-1 .h2o-table td {\n",
       "  text-align: right;\n",
       "  /* border: 1px solid; */\n",
       "}\n",
       "#h2o-table-1 .h2o-table tr:nth-child(even) {\n",
       "  /* background: #F5F5F5 */\n",
       "}\n",
       "\n",
       "</style>      \n",
       "<div id=\"h2o-table-1\" class=\"h2o-container\">\n",
       "  <table class=\"h2o-table\">\n",
       "    <caption></caption>\n",
       "    <thead></thead>\n",
       "    <tbody><tr><td>H2O_cluster_uptime:</td>\n",
       "<td>03 secs</td></tr>\n",
       "<tr><td>H2O_cluster_timezone:</td>\n",
       "<td>Etc/UTC</td></tr>\n",
       "<tr><td>H2O_data_parsing_timezone:</td>\n",
       "<td>UTC</td></tr>\n",
       "<tr><td>H2O_cluster_version:</td>\n",
       "<td>3.46.0.5</td></tr>\n",
       "<tr><td>H2O_cluster_version_age:</td>\n",
       "<td>1 month and 16 days</td></tr>\n",
       "<tr><td>H2O_cluster_name:</td>\n",
       "<td>H2O_from_python_unknownUser_3xay5h</td></tr>\n",
       "<tr><td>H2O_cluster_total_nodes:</td>\n",
       "<td>1</td></tr>\n",
       "<tr><td>H2O_cluster_free_memory:</td>\n",
       "<td>7.500 Gb</td></tr>\n",
       "<tr><td>H2O_cluster_total_cores:</td>\n",
       "<td>4</td></tr>\n",
       "<tr><td>H2O_cluster_allowed_cores:</td>\n",
       "<td>4</td></tr>\n",
       "<tr><td>H2O_cluster_status:</td>\n",
       "<td>locked, healthy</td></tr>\n",
       "<tr><td>H2O_connection_url:</td>\n",
       "<td>http://127.0.0.1:54321</td></tr>\n",
       "<tr><td>H2O_connection_proxy:</td>\n",
       "<td>{\"http\": null, \"https\": null}</td></tr>\n",
       "<tr><td>H2O_internal_security:</td>\n",
       "<td>False</td></tr>\n",
       "<tr><td>Python_version:</td>\n",
       "<td>3.10.14 final</td></tr></tbody>\n",
       "  </table>\n",
       "</div>\n"
      ],
      "text/plain": [
       "--------------------------  ----------------------------------\n",
       "H2O_cluster_uptime:         03 secs\n",
       "H2O_cluster_timezone:       Etc/UTC\n",
       "H2O_data_parsing_timezone:  UTC\n",
       "H2O_cluster_version:        3.46.0.5\n",
       "H2O_cluster_version_age:    1 month and 16 days\n",
       "H2O_cluster_name:           H2O_from_python_unknownUser_3xay5h\n",
       "H2O_cluster_total_nodes:    1\n",
       "H2O_cluster_free_memory:    7.500 Gb\n",
       "H2O_cluster_total_cores:    4\n",
       "H2O_cluster_allowed_cores:  4\n",
       "H2O_cluster_status:         locked, healthy\n",
       "H2O_connection_url:         http://127.0.0.1:54321\n",
       "H2O_connection_proxy:       {\"http\": null, \"https\": null}\n",
       "H2O_internal_security:      False\n",
       "Python_version:             3.10.14 final\n",
       "--------------------------  ----------------------------------"
      ]
     },
     "metadata": {},
     "output_type": "display_data"
    },
    {
     "ename": "ModuleNotFoundError",
     "evalue": "No module named 'h2o.datasets'",
     "output_type": "error",
     "traceback": [
      "\u001b[0;31m---------------------------------------------------------------------------\u001b[0m",
      "\u001b[0;31mModuleNotFoundError\u001b[0m                       Traceback (most recent call last)",
      "Cell \u001b[0;32mIn[11], line 6\u001b[0m\n\u001b[1;32m      3\u001b[0m h2o\u001b[38;5;241m.\u001b[39minit()\n\u001b[1;32m      5\u001b[0m \u001b[38;5;66;03m# Step 2: Load the dataset (Iris dataset in this case)\u001b[39;00m\n\u001b[0;32m----> 6\u001b[0m \u001b[38;5;28;01mfrom\u001b[39;00m \u001b[38;5;21;01mh2o\u001b[39;00m\u001b[38;5;21;01m.\u001b[39;00m\u001b[38;5;21;01mdatasets\u001b[39;00m \u001b[38;5;28;01mimport\u001b[39;00m load_dataset\n\u001b[1;32m      7\u001b[0m data \u001b[38;5;241m=\u001b[39m load_dataset(\u001b[38;5;124m\"\u001b[39m\u001b[38;5;124miris\u001b[39m\u001b[38;5;124m\"\u001b[39m)\n\u001b[1;32m      9\u001b[0m \u001b[38;5;66;03m# Step 3: Split the dataset into training and testing sets\u001b[39;00m\n",
      "\u001b[0;31mModuleNotFoundError\u001b[0m: No module named 'h2o.datasets'"
     ]
    }
   ],
   "source": [
    "# Step 1: Import and Initialize H2O\n",
    "import h2o\n",
    "h2o.init()\n",
    "\n",
    "# Step 2: Load the dataset (Iris dataset in this case)\n",
    "from h2o.datasets import load_dataset\n",
    "data = load_dataset(\"iris\")\n",
    "\n",
    "# Step 3: Split the dataset into training and testing sets\n",
    "train, test = data.split_frame(ratios=[0.8], seed=1234)  # 80% training, 20% testing\n",
    "\n",
    "# Step 4: Define the target column and features\n",
    "target = 'class'  # The target column (species in the Iris dataset)\n",
    "features = data.columns\n",
    "features.remove(target)  # Remove the target column from the features\n",
    "\n",
    "# Step 5: Run H2O AutoML for Classification\n",
    "from h2o.automl import H2OAutoML\n",
    "aml = H2OAutoML(max_runtime_secs=300,  # Limit the runtime to 5 minutes\n",
    "                seed=1234,  # Set a seed for reproducibility\n",
    "                max_models=10)  # Optional: limit the number of models\n",
    "\n",
    "aml.train(x=features, y=target, training_frame=train)\n",
    "\n",
    "# Step 6: View the leaderboard of the models\n",
    "lb = aml.leaderboard\n",
    "print(lb)\n",
    "\n",
    "# Step 7: Make predictions on the test set using the best model (the leader)\n",
    "predictions = aml.leader.predict(test)\n",
    "print(predictions)\n",
    "\n",
    "# Step 8: Evaluate the performance of the model on the test set\n",
    "performance = aml.leader.model_performance(test)\n",
    "print(performance)\n",
    "\n",
    "# Step 9: Save the best model for future use\n",
    "model_path = h2o.save_model(model=aml.leader, path=\"best_classification_model\", force=True)\n",
    "print(f\"Model saved to: {model_path}\")"
   ]
  },
  {
   "cell_type": "markdown",
   "id": "eacf278b",
   "metadata": {
    "papermill": {
     "duration": null,
     "end_time": null,
     "exception": null,
     "start_time": null,
     "status": "pending"
    },
    "tags": []
   },
   "source": [
    "# Example for **Regression**"
   ]
  },
  {
   "cell_type": "code",
   "execution_count": null,
   "id": "0f880959",
   "metadata": {
    "execution": {
     "iopub.status.busy": "2024-10-16T01:26:14.785798Z",
     "iopub.status.idle": "2024-10-16T01:26:14.786556Z",
     "shell.execute_reply": "2024-10-16T01:26:14.786296Z",
     "shell.execute_reply.started": "2024-10-16T01:26:14.786268Z"
    },
    "papermill": {
     "duration": null,
     "end_time": null,
     "exception": null,
     "start_time": null,
     "status": "pending"
    },
    "tags": []
   },
   "outputs": [],
   "source": [
    "# Step 1: Import and Initialize H2O\n",
    "import h2o\n",
    "h2o.init()\n",
    "\n",
    "# Step 2: Load the Boston Housing dataset\n",
    "from h2o.datasets import load_dataset\n",
    "data = load_dataset(\"boston\")\n",
    "\n",
    "# Step 3: Split the dataset into training and testing sets (80% train, 20% test)\n",
    "train, test = data.split_frame(ratios=[0.8], seed=1234)\n",
    "\n",
    "# Step 4: Define the target and features\n",
    "target = 'medv'  # 'medv' is the target column (median value of owner-occupied homes)\n",
    "features = data.columns\n",
    "features.remove(target)  # Remove target from features\n",
    "\n",
    "# Step 5: Run H2O AutoML for Regression\n",
    "from h2o.automl import H2OAutoML\n",
    "\n",
    "aml = H2OAutoML(max_runtime_secs=300,  # Limit the training time to 5 minutes\n",
    "                max_models=10,         # Limit the number of models to 10\n",
    "                seed=1234)             # Set seed for reproducibility\n",
    "aml.train(x=features, y=target, training_frame=train)\n",
    "\n",
    "# Step 6: View the leaderboard of models\n",
    "lb = aml.leaderboard\n",
    "print(lb)\n",
    "\n",
    "# Step 7: Make predictions on the test set using the best model (the leader)\n",
    "predictions = aml.leader.predict(test)\n",
    "print(predictions)\n",
    "\n",
    "# Step 8: Evaluate the performance of the model on the test set\n",
    "performance = aml.leader.model_performance(test)\n",
    "print(performance)\n",
    "\n",
    "# Step 9: Save the best model for future use\n",
    "model_path = h2o.save_model(model=aml.leader, path=\"best_regression_model\", force=True)\n",
    "print(f\"Model saved to: {model_path}\")"
   ]
  },
  {
   "cell_type": "code",
   "execution_count": null,
   "id": "f79d21db",
   "metadata": {
    "papermill": {
     "duration": null,
     "end_time": null,
     "exception": null,
     "start_time": null,
     "status": "pending"
    },
    "tags": []
   },
   "outputs": [],
   "source": []
  }
 ],
 "metadata": {
  "kaggle": {
   "accelerator": "none",
   "dataSources": [],
   "dockerImageVersionId": 30786,
   "isGpuEnabled": false,
   "isInternetEnabled": true,
   "language": "python",
   "sourceType": "notebook"
  },
  "kernelspec": {
   "display_name": "Python 3",
   "language": "python",
   "name": "python3"
  },
  "language_info": {
   "codemirror_mode": {
    "name": "ipython",
    "version": 3
   },
   "file_extension": ".py",
   "mimetype": "text/x-python",
   "name": "python",
   "nbconvert_exporter": "python",
   "pygments_lexer": "ipython3",
   "version": "3.10.14"
  },
  "papermill": {
   "default_parameters": {},
   "duration": 13.202152,
   "end_time": "2024-10-16T01:29:15.683715",
   "environment_variables": {},
   "exception": true,
   "input_path": "__notebook__.ipynb",
   "output_path": "__notebook__.ipynb",
   "parameters": {},
   "start_time": "2024-10-16T01:29:02.481563",
   "version": "2.6.0"
  }
 },
 "nbformat": 4,
 "nbformat_minor": 5
}
